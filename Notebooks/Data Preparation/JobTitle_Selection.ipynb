{
 "cells": [
  {
   "cell_type": "markdown",
   "metadata": {},
   "source": [
    "**Selecting specific job title.**"
   ]
  },
  {
   "cell_type": "code",
   "execution_count": 29,
   "metadata": {},
   "outputs": [
    {
     "data": {
      "text/html": [
       "<div>\n",
       "<style scoped>\n",
       "    .dataframe tbody tr th:only-of-type {\n",
       "        vertical-align: middle;\n",
       "    }\n",
       "\n",
       "    .dataframe tbody tr th {\n",
       "        vertical-align: top;\n",
       "    }\n",
       "\n",
       "    .dataframe thead th {\n",
       "        text-align: right;\n",
       "    }\n",
       "</style>\n",
       "<table border=\"1\" class=\"dataframe\">\n",
       "  <thead>\n",
       "    <tr style=\"text-align: right;\">\n",
       "      <th></th>\n",
       "      <th>Company</th>\n",
       "      <th>Job Title</th>\n",
       "      <th>Job Description</th>\n",
       "    </tr>\n",
       "  </thead>\n",
       "  <tbody>\n",
       "    <tr>\n",
       "      <th>447</th>\n",
       "      <td>The Supreme HR Advisory Pte. Ltd.\\n\\n    \\t\\t\\...</td>\n",
       "      <td>Site Supervisor / Project Engineer ( Construct...</td>\n",
       "      <td>•Good Carrer Prospect\\n•Immediate Position\\n•G...</td>\n",
       "    </tr>\n",
       "    <tr>\n",
       "      <th>6502</th>\n",
       "      <td>EXYTE SINGAPORE PTE. LTD.</td>\n",
       "      <td>Site Supervisor</td>\n",
       "      <td>Main Duties\\n• Reports directly to the Buildin...</td>\n",
       "    </tr>\n",
       "    <tr>\n",
       "      <th>6691</th>\n",
       "      <td>STAFFHUB GROUP PTE LTD\\n\\n    \\t\\t\\t\\t\\t\\t\\t  ...</td>\n",
       "      <td>Site Supervisor / Project Supervisor / Project...</td>\n",
       "      <td>Site Supervisor / Project Supervisor / Project...</td>\n",
       "    </tr>\n",
       "    <tr>\n",
       "      <th>7707</th>\n",
       "      <td>EXYTE SINGAPORE PTE. LTD.</td>\n",
       "      <td>Site Supervisor</td>\n",
       "      <td>Main Duties\\n• Reports directly to the Buildin...</td>\n",
       "    </tr>\n",
       "    <tr>\n",
       "      <th>7831</th>\n",
       "      <td>STAFFHUB GROUP PTE LTD\\n\\n    \\t\\t\\t\\t\\t\\t\\t  ...</td>\n",
       "      <td>Site Supervisor / Project Supervisor / Project...</td>\n",
       "      <td>Site Supervisor / Project Supervisor / Project...</td>\n",
       "    </tr>\n",
       "    <tr>\n",
       "      <th>8230</th>\n",
       "      <td>Bcs-Prokon Contractors (Pte) Ltd</td>\n",
       "      <td>Site Supervisor</td>\n",
       "      <td>Job Descriptions : To manage project site by s...</td>\n",
       "    </tr>\n",
       "    <tr>\n",
       "      <th>10942</th>\n",
       "      <td>Gim Tian Civil Engineering Pte Ltd</td>\n",
       "      <td>Site Supervisor</td>\n",
       "      <td>Job Description\\n\\n\\n\\n\\n\\t\\nTo daily to recei...</td>\n",
       "    </tr>\n",
       "    <tr>\n",
       "      <th>11114</th>\n",
       "      <td>Gim Tian Civil Engineering Pte Ltd</td>\n",
       "      <td>Site Supervisor</td>\n",
       "      <td>Job Description\\n\\n\\n\\n\\n\\t\\nTo daily to recei...</td>\n",
       "    </tr>\n",
       "    <tr>\n",
       "      <th>12860</th>\n",
       "      <td>EXYTE SINGAPORE PTE. LTD.</td>\n",
       "      <td>Site Supervisor</td>\n",
       "      <td>Main Duties\\n• Reports directly to the Buildin...</td>\n",
       "    </tr>\n",
       "  </tbody>\n",
       "</table>\n",
       "</div>"
      ],
      "text/plain": [
       "                                                 Company  \\\n",
       "447    The Supreme HR Advisory Pte. Ltd.\\n\\n    \\t\\t\\...   \n",
       "6502                           EXYTE SINGAPORE PTE. LTD.   \n",
       "6691   STAFFHUB GROUP PTE LTD\\n\\n    \\t\\t\\t\\t\\t\\t\\t  ...   \n",
       "7707                           EXYTE SINGAPORE PTE. LTD.   \n",
       "7831   STAFFHUB GROUP PTE LTD\\n\\n    \\t\\t\\t\\t\\t\\t\\t  ...   \n",
       "8230                    Bcs-Prokon Contractors (Pte) Ltd   \n",
       "10942                 Gim Tian Civil Engineering Pte Ltd   \n",
       "11114                 Gim Tian Civil Engineering Pte Ltd   \n",
       "12860                          EXYTE SINGAPORE PTE. LTD.   \n",
       "\n",
       "                                               Job Title  \\\n",
       "447    Site Supervisor / Project Engineer ( Construct...   \n",
       "6502                                     Site Supervisor   \n",
       "6691   Site Supervisor / Project Supervisor / Project...   \n",
       "7707                                     Site Supervisor   \n",
       "7831   Site Supervisor / Project Supervisor / Project...   \n",
       "8230                                     Site Supervisor   \n",
       "10942                                    Site Supervisor   \n",
       "11114                                    Site Supervisor   \n",
       "12860                                    Site Supervisor   \n",
       "\n",
       "                                         Job Description  \n",
       "447    •Good Carrer Prospect\\n•Immediate Position\\n•G...  \n",
       "6502   Main Duties\\n• Reports directly to the Buildin...  \n",
       "6691   Site Supervisor / Project Supervisor / Project...  \n",
       "7707   Main Duties\\n• Reports directly to the Buildin...  \n",
       "7831   Site Supervisor / Project Supervisor / Project...  \n",
       "8230   Job Descriptions : To manage project site by s...  \n",
       "10942  Job Description\\n\\n\\n\\n\\n\\t\\nTo daily to recei...  \n",
       "11114  Job Description\\n\\n\\n\\n\\n\\t\\nTo daily to recei...  \n",
       "12860  Main Duties\\n• Reports directly to the Buildin...  "
      ]
     },
     "execution_count": 29,
     "metadata": {},
     "output_type": "execute_result"
    }
   ],
   "source": [
    "import pandas as pd\n",
    "\n",
    "\n",
    "data= pd.read_csv(\"jd_source_b.csv\") # Select your source csv.\n",
    "df = pd.DataFrame(data)\n",
    "cols = [2,1,3] # Will only select 'company, job_title & job_description'. 2,1,3 is the column arrangement.\n",
    "df = df[df.columns[cols]]\n",
    "\n",
    "df2 = df[df['job_title'].str.contains('Site Supervisor')] #Input the job title you want\n",
    "df2 = df2.rename(columns={'job_title': 'Job Title', 'company': 'Company', 'job_desc': 'Job Description'}) #This will format the header\n",
    "\n",
    "df2.to_csv('Job_SiteSupervisor.csv', index=False) #Rename accordingly and save into a new csv for editing\n",
    "\n",
    "df2.head(20)"
   ]
  },
  {
   "cell_type": "markdown",
   "metadata": {},
   "source": [
    "**Check what columns available in the csv.**"
   ]
  },
  {
   "cell_type": "code",
   "execution_count": null,
   "metadata": {},
   "outputs": [],
   "source": [
    "data.columns"
   ]
  }
 ],
 "metadata": {
  "interpreter": {
   "hash": "966c3ac903d1f7cdfb87df1e23327b27816fa53b36945768f35ef8e388fe4592"
  },
  "kernelspec": {
   "display_name": "Python 3.9.7 ('base')",
   "language": "python",
   "name": "python3"
  },
  "language_info": {
   "codemirror_mode": {
    "name": "ipython",
    "version": 3
   },
   "file_extension": ".py",
   "mimetype": "text/x-python",
   "name": "python",
   "nbconvert_exporter": "python",
   "pygments_lexer": "ipython3",
   "version": "3.9.7"
  },
  "orig_nbformat": 4
 },
 "nbformat": 4,
 "nbformat_minor": 2
}
